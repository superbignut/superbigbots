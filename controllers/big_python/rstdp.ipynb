{
 "cells": [
  {
   "cell_type": "markdown",
   "metadata": {},
   "source": [
    "reference:[https://github.com/rfma23/RSTDP](https://github.com/rfma23/RSTDP)"
   ]
  },
  {
   "cell_type": "markdown",
   "metadata": {},
   "source": [
    "+ 输入是3*11的神经元\n",
    "\n",
    "\n",
    "+ 输出是1*9的神经元\n",
    "\n",
    "\n",
    "+ 卷积核是1个3*3的矩阵，对9个输出都是相同的\n"
   ]
  },
  {
   "cell_type": "markdown",
   "metadata": {},
   "source": [
    "```python\n",
    "    grid1 = np.array([[1,0,0,0,5,6,7,0,0,0,9],\n",
    "                    [2,3,0,0,0,8,0,0,0,10,11],\n",
    "                    [4,0,0,0,0,0,0,0,0,0,12]],\n",
    "                dtype=np.float32)\n",
    "\n",
    "    grid2 = np.array([[1,0,0,0,9,10,11,0,0,0,5],\n",
    "                    [2,3,0,0,0,12,0,0,0,6,7],\n",
    "                    [4,0,0,0,0,0,0,0,0,0,8]],\n",
    "                dtype=np.float32)\n",
    "```\n",
    "\n",
    "> 当输入是这两种的形式时，目的是训练使用r-stdp进行区分，可以看出不同的输入上，有神经元输入的地方都是相同的，并且时间上的早期脉冲也是相同的，不同的是后期脉冲顺序/时间\n",
    "\n",
    "> 训练的结果自然就体现在神经元的权重w上"
   ]
  },
  {
   "cell_type": "code",
   "execution_count": 265,
   "metadata": {},
   "outputs": [],
   "source": [
    "import random\n",
    "import numpy as np\n",
    "import matplotlib.pyplot as plt\n",
    "import itertools \n",
    "import logging"
   ]
  },
  {
   "cell_type": "code",
   "execution_count": 266,
   "metadata": {},
   "outputs": [
    {
     "data": {
      "text/plain": [
       "dtype([('x', 'u1'), ('y', 'u1'), ('ts', '<f4')])"
      ]
     },
     "execution_count": 266,
     "metadata": {},
     "output_type": "execute_result"
    }
   ],
   "source": [
    "in_spike_dtype = np.dtype([('x', np.uint8), ('y', np.uint8), ('ts', np.float32)]) # 自定义数据类型\n",
    "# data = np.array([(10, 20, 3.14), (30, 40, 6.28)], dtype=in_spike_dtype)\n",
    "in_spike_dtype"
   ]
  },
  {
   "cell_type": "code",
   "execution_count": 267,
   "metadata": {},
   "outputs": [
    {
     "data": {
      "text/plain": [
       "dtype([('grid', 'u1'), ('x', 'u1'), ('y', 'u1'), ('ts', '<f4')])"
      ]
     },
     "execution_count": 267,
     "metadata": {},
     "output_type": "execute_result"
    }
   ],
   "source": [
    "out_spike_dtype = np.dtype([('grid', np.uint8), ('x', np.uint8), ('y', np.uint8), ('ts', np.float32)])\n",
    "out_spike_dtype"
   ]
  },
  {
   "cell_type": "code",
   "execution_count": 268,
   "metadata": {},
   "outputs": [],
   "source": [
    "class Grid:\n",
    "    def __init__(self, xsize, ysize, grid):\n",
    "        self.xsize = xsize\n",
    "        self.ysize = ysize\n",
    "        self.grid = grid\n",
    "        \n",
    "    @classmethod\n",
    "    def get_grid(cls, i):\n",
    "        \"\"\"\n",
    "            类似于一个构造函数\n",
    "        \"\"\"\n",
    "        if i == 'zero' :\n",
    "            grid = np.array([[0,0,0,0,0,0,0,0,0,0,0],\n",
    "                             [0,0,0,0,0,0,0,0,0,0,0],\n",
    "                             [0,0,0,0,0,0,0,0,0,0,0]],\n",
    "                           dtype=np.float32)\n",
    "        elif i == 0 :\n",
    "            grid = np.array([[1,0,0,0,5,6,7,0,0,0,9],\n",
    "                             [2,3,0,0,0,8,0,0,0,10,11],\n",
    "                             [4,0,0,0,0,0,0,0,0,0,12]],\n",
    "                           dtype=np.float32)\n",
    "            \n",
    "        elif i == 1 :\n",
    "            grid = np.array([[1,0,0,0,9,10,11,0,0,0,5],\n",
    "                             [2,3,0,0,0,12,0,0,0,6,7],\n",
    "                             [4,0,0,0,0,0,0,0,0,0,8]],\n",
    "                           dtype=np.float32)\n",
    "            \n",
    "        return cls(3, 11, grid)\n",
    "    \n",
    "    def show(self):\n",
    "        \"\"\"\n",
    "            使用灰度图显示3*12矩阵\n",
    "        \"\"\"\n",
    "        grayscale = (self.grid > 0).astype(int)\n",
    "        for (i, j), value in np.ndenumerate(self.grid): \n",
    "            if value > 0 : plt.text(y=i,x=j,s=int(value)) # 这里让np中的j当作x轴\n",
    "        plt.imshow(grayscale, vmin=-1, vmax =1, cmap='gray')\n",
    "        plt.xticks(range(self.grid.shape[1]), rotation=0)\n",
    "        plt.show()\n",
    "    \n",
    "    @property\n",
    "    def spikes(self):\n",
    "        \"\"\"\n",
    "            Retrieves the grid spikes in a recarray format with\n",
    "            spikes sorted by timestamp\n",
    "        \"\"\"\n",
    "        grid_spikes = []\n",
    "        for (i, j), value in np.ndenumerate(self.grid):\n",
    "             if value > 0 : grid_spikes.append((i, j, value))\n",
    "        np_spikes = np.array(grid_spikes, dtype=in_spike_dtype)\n",
    "        np_spikes.sort(order='ts') # 按照自定义类型的ts-也就是发放时间排序\n",
    "        return np_spikes\n",
    "    \n",
    "    @property\n",
    "    def shape(self):\n",
    "        return self.grid.shape\n",
    "    \n",
    "    def __str__(self):\n",
    "        # return self.spikes\n",
    "        return \"{0}\".format(self.spikes)\n",
    "    \n",
    "    def __repr__(self):\n",
    "        return self.__str__()"
   ]
  },
  {
   "cell_type": "code",
   "execution_count": 269,
   "metadata": {},
   "outputs": [
    {
     "data": {
      "image/png": "[encoded data removed]",
      "text/plain": [
       "<Figure size 640x480 with 1 Axes>"
      ]
     },
     "metadata": {},
     "output_type": "display_data"
    }
   ],
   "source": [
    "A = Grid.get_grid(i=0)\n",
    "A.show()"
   ]
  },
  {
   "cell_type": "code",
   "execution_count": 270,
   "metadata": {},
   "outputs": [
    {
     "data": {
      "text/plain": [
       "array([(0,  0,  1.), (1,  0,  2.), (1,  1,  3.), (2,  0,  4.),\n",
       "       (0,  4,  5.), (0,  5,  6.), (0,  6,  7.), (1,  5,  8.),\n",
       "       (0, 10,  9.), (1,  9, 10.), (1, 10, 11.), (2, 10, 12.)],\n",
       "      dtype=[('x', 'u1'), ('y', 'u1'), ('ts', '<f4')])"
      ]
     },
     "execution_count": 270,
     "metadata": {},
     "output_type": "execute_result"
    }
   ],
   "source": [
    "A.spikes"
   ]
  },
  {
   "cell_type": "code",
   "execution_count": 271,
   "metadata": {},
   "outputs": [
    {
     "data": {
      "image/png": "[encoded data removed]",
      "text/plain": [
       "<Figure size 640x480 with 1 Axes>"
      ]
     },
     "metadata": {},
     "output_type": "display_data"
    }
   ],
   "source": [
    "B = Grid.get_grid(i=1)\n",
    "B.show()"
   ]
  },
  {
   "cell_type": "code",
   "execution_count": 272,
   "metadata": {},
   "outputs": [
    {
     "data": {
      "text/plain": [
       "array([(0,  0,  1.), (1,  0,  2.), (1,  1,  3.), (2,  0,  4.),\n",
       "       (0, 10,  5.), (1,  9,  6.), (1, 10,  7.), (2, 10,  8.),\n",
       "       (0,  4,  9.), (0,  5, 10.), (0,  6, 11.), (1,  5, 12.)],\n",
       "      dtype=[('x', 'u1'), ('y', 'u1'), ('ts', '<f4')])"
      ]
     },
     "execution_count": 272,
     "metadata": {},
     "output_type": "execute_result"
    }
   ],
   "source": [
    "B.spikes "
   ]
  },
  {
   "cell_type": "markdown",
   "metadata": {},
   "source": [
    "<div align=\"center\">\n",
    "    <img src='images/rstdp1.png' width=400>\n",
    "</div>"
   ]
  },
  {
   "cell_type": "markdown",
   "metadata": {},
   "source": [
    "其实也就是代表，对于一个输出的3*3的对应的9个输入中，只要有一个来了脉冲，膜电压就会更新一次，并且可以发现，这里没leak-泄露，也就是没有衰减项"
   ]
  },
  {
   "cell_type": "code",
   "execution_count": null,
   "metadata": {},
   "outputs": [],
   "source": []
  },
  {
   "cell_type": "code",
   "execution_count": 273,
   "metadata": {},
   "outputs": [],
   "source": [
    "class NeuronalGrids:\n",
    "    def __init__(self, in_grid_shape, neuron_rf=3, n_grids=2, n_classes=2) -> None:\n",
    "        \"\"\"\n",
    "            in_grid_shape : 输入层shape, 比如我这里是 3 * 11\n",
    "            neuron_rf ：卷积边长（默认长宽相等）\n",
    "            n_grids = 2 ： 是 n_classes 的 k 倍， 还是一种分类的感觉, 这里暂取他们相等\n",
    "            n_classes ： 要分多少类\n",
    "        \"\"\"\n",
    "        self.in_grid_shape = in_grid_shape\n",
    "        self.out_grid_shape = ((in_grid_shape[0] - neuron_rf + 1),\n",
    "                               (in_grid_shape[1] - neuron_rf + 1)) # 1*9\n",
    "        \n",
    "        # assert self.out_grid_shape == (1,9), \"self.out_grid_shape error!\"\n",
    "        \n",
    "        self.n_classes = n_classes\n",
    "\n",
    "        self.n_grids = n_grids # 卷积核的个数\n",
    "\n",
    "        self.neuron_rf = neuron_rf\n",
    "\n",
    "        self.synaptic_weights = np.random.normal(0.8, 0.05, (self.n_grids, self.neuron_rf, self.neuron_rf)) # 权重初始化\n",
    "\n",
    "        self.neuron_potential = np.zeros((n_grids, *self.out_grid_shape), dtype=np.float32) # 膜电压初始化为0\n",
    "\n",
    "        self.neuron_threshold = 3.2 # 超参数\n",
    "\n",
    "        self.ar_plus = 0.075 # 超参数\n",
    "        self.ar_neg = -0.05 # 超参数\n",
    "        self.ap_plus = 0.04 # 超参数\n",
    "        self.ap_neg = -0.1 # 超参数\n",
    "\n",
    "        self.small_qty = 0.005 # [small_qty, 1-small_qty] # 超参数\n",
    "\n",
    "        self.reset_metric() # 初始化参数\n",
    "    \n",
    "        self.sensitive_neurons_to_pos = self.get_sensitive_neurons() # 对于每一个输入神经元，能影响的输出神经元是有限的，提前计算出来\n",
    "\n",
    "        # print(self.sensitive_neurons_to_pos)\n",
    "\n",
    "        self.dropouts = [] # 不懂\n",
    "\n",
    "\n",
    "    def get_sensitive_neurons(self):\n",
    "        \"\"\" \n",
    "            找到每个输入位置会影响的输出位置：\n",
    "            比如：\n",
    "            输入位置的（1，3）会影响输出位置的（0，1） （0，2） （0，3）\n",
    "        \"\"\"\n",
    "        sensitive_neurons_to_pos = {}\n",
    "\n",
    "        for x, y in itertools.product(range(self.in_grid_shape[0]), range(self.in_grid_shape[1])): # 两层循环 输入维度\n",
    "            sensitive_neurons_to_pos[(x,y)] = []\n",
    "\n",
    "        for row, col in itertools.product(range(self.out_grid_shape[0]), range(self.out_grid_shape[1])): # 输出维度\n",
    "            neuron_center_row = row + self.neuron_rf//2 # 1\n",
    "            neuron_center_col = col + self.neuron_rf//2 # 先求输出该行在输入中的 w 的中心位置\n",
    "            \n",
    "            # relevant area for the neuron\n",
    "            row_lb = neuron_center_row-self.neuron_rf//2 # 0\n",
    "            row_ub = neuron_center_row+self.neuron_rf//2 # 2\n",
    "            col_lb = neuron_center_col-self.neuron_rf//2 # \n",
    "            col_ub = neuron_center_col+self.neuron_rf//2\n",
    "            \n",
    "            if self.neuron_rf % 2 != 0:\n",
    "                for x, y in itertools.product(range(row_lb, row_ub+1), range(col_lb, col_ub+1)):\n",
    "                    sensitive_neurons_to_pos[(x,y)].append((row, col))\n",
    "            else:\n",
    "                for x, y in itertools.product(range(row_lb, row_ub), range(col_lb, col_ub)):\n",
    "                    sensitive_neurons_to_pos[(x,y)].append((row, col))\n",
    "                \n",
    "        return sensitive_neurons_to_pos\n",
    "\n",
    "\n",
    "    def reset_metric(self):\n",
    "        # 这里的引入，在论文中是为了，调整训练的收敛和过拟合问题\n",
    "        self.n_silence = 0 # 输出层没有脉冲的数量\n",
    "        self.n_hit = 0 # 分类正确的\n",
    "        self.n_miss = 0 # 分类错误的\n",
    "        self.n_samples = 0 # 总采样数\n",
    "\n",
    "\n",
    "\n",
    "    def get_temporal_winner(self, spikes, dropout=0.2, neuron_dropout=0.1):\n",
    "        \"\"\" \n",
    "            找到第一个脉冲的输出神经元，这里是论文中的一个观点，只对输出层发放脉冲的第一个神经元有关的连接权重进行更新，与统计频率相比很大的简化了计算\n",
    "        \"\"\"\n",
    "        neuron_potential = np.zeros((self.n_grids, *self.out_grid_shape), dtype=np.float32) # 这里每次都是从零开始的!\n",
    "\n",
    "        hasFired = False\n",
    "\n",
    "        is_active = np.random.random(self.n_grids) # \n",
    "\n",
    "        is_active_neuron = np.random.random(self.out_grid_shape) # 有引入两层dropout\n",
    "\n",
    "        for spike in spikes: # 遍历所有脉冲输入\n",
    "            \n",
    "            for grid in range(self.n_grids): # 对不同的输出层, 这里的顺序不会有问题吗， 先遍历哪一层？\n",
    "\n",
    "                if is_active[grid] > dropout: # 这里引入随机丢弃\n",
    "\n",
    "                    if not hasFired:\n",
    "                        \n",
    "                        affected_neurons = self.sensitive_neurons_to_pos[(spike['x'], spike['y'])] # spike 应该是一个元组坐标, 这里感觉应该从字典里拿不出来吧\n",
    "\n",
    "                        for affected_neuron in affected_neurons: # 遍历收到影响的输出神经元\n",
    "                            \n",
    "                            if is_active_neuron[affected_neuron] > neuron_dropout: # 引入第二层随机度\n",
    "\n",
    "                                neuron_row, neuron_col = affected_neuron # 得到坐标\n",
    "\n",
    "                                relative_x, relative_y = self.relative_position(spike, affected_neuron) # 从输入脉冲，和输出神经元位置 定位到 需要计算的权重w的坐标\n",
    "\n",
    "                                neuron_potential[grid, neuron_row, neuron_col] += self.synaptic_weights[grid, relative_x, relative_y] # 计算膜电位\n",
    "\n",
    "                                if neuron_potential[grid, neuron_row, neuron_col] > self.neuron_threshold: # \n",
    "                                    \n",
    "                                    out_spike = np.array([(grid, neuron_row, neuron_col, spike['ts'])], dtype=out_spike_dtype) \n",
    "                                    \n",
    "                                    hasFired = True # 这里如果触发了，后面的那个grid就执行不了了，按理说应该都跑出来\n",
    "\n",
    "                                    break\n",
    "                    else:\n",
    "                        return out_spike[0]\n",
    "        \n",
    "        return None\n",
    "        \n",
    "\n",
    "\n",
    "    def predict(self, spikes):\n",
    "        \"\"\"\n",
    "            输出预测结果\n",
    "        \"\"\"\n",
    "        pred_class = None\n",
    "\n",
    "        winner_spike = self.get_temporal_winner(spikes, dropout=0, neuron_dropout=0)\n",
    "\n",
    "        if winner_spike is not None:\n",
    "            \n",
    "            pred_class = winner_spike['grid'] \n",
    "        \n",
    "        return pred_class\n",
    "    \n",
    "\n",
    "    def process(self, spikes, label, train=True):\n",
    "        # 训练过程\n",
    "        dropout = 0.4 * (1 - self.n_hit / (self.n_samples + 1)) # 命中率越低，drop越多 系数是超参数\n",
    "        neuron_dropout = 0.2 * (1 - self.n_hit / (self.n_samples + 1)) # 命中率越低，drop越多 系数是超参数\n",
    "\n",
    "        self.dropouts.append((dropout, neuron_dropout))\n",
    "\n",
    "        winner_spike = self.get_temporal_winner(spikes, dropout, neuron_dropout) # 获取 最先发放的脉冲\n",
    "\n",
    "        # logging.info(winner_spike)\n",
    "        reward = False\n",
    "        pred_class = None\n",
    "\n",
    "        if winner_spike is not None:\n",
    "\n",
    "            pred_class = winner_spike['grid'] \n",
    "\n",
    "            is_correct = (pred_class == label)\n",
    "\n",
    "            reward = is_correct\n",
    "\n",
    "            self.n_hit += int(is_correct)\n",
    "            \n",
    "            self.n_miss += int(not is_correct)\n",
    "\n",
    "            if train:\n",
    "                self.synatic_plasticity(winner_spike, reward, spikes) # \n",
    "\n",
    "        else:\n",
    "            self.synaptic_weights[label] += 0.00005 # 这里这么关键吗\n",
    "\n",
    "            self.n_silence += 1\n",
    "            \n",
    "        self.n_samples += 1\n",
    "\n",
    "        return pred_class\n",
    "\n",
    "    def synatic_plasticity(self, winner_spike, reward, c_spikes):\n",
    "        # 根据奖励信号，调整连接权重\n",
    "        grid_index = winner_spike['grid']\n",
    "\n",
    "        spiked_before_post = self.get_whether_pre_spiked_before_post(winner_spike, c_spikes) # 返回一个bool矩阵\n",
    "\n",
    "        compute_delta_weights = compute_rstdp(self.synaptic_weights[grid_index], spiked_before_post, reward, # 计算 delta W\n",
    "                                              self.ar_plus, self.ar_neg, self.ap_plus, self.ap_neg)\n",
    "        \n",
    "        if reward != None:\n",
    "            adjustment_factor = (self.n_miss + 1) / (self.n_samples + 1) # 计算 系数因子\n",
    "        else:\n",
    "            adjustment_factor = (self.n_hit + 1) / (self.n_samples + 1)\n",
    "\n",
    "\n",
    "        apply_update(self.synaptic_weights[grid_index], compute_delta_weights, adjustment_factor, self.small_qty) # 更新权重不能超过范围\n",
    "\n",
    "\n",
    "    def get_whether_pre_spiked_before_post(self, winner_spike, c_spikes):\n",
    "        # 判断c_spikes 中有没有在winner 之前发放过脉冲的\n",
    "        pre_spiked_before_post = np.full((self.neuron_rf, self.neuron_rf), False)\n",
    "\n",
    "        neuron = (winner_spike['x'], winner_spike['y'])\n",
    "\n",
    "        for spike in c_spikes: # 对脉冲序列中的所有元素 1 \n",
    "\n",
    "            if neuron in self.sensitive_neurons_to_pos[(spike['x'], spike['y'])]: # winner是否在spike 的影响范围内 2 \n",
    "\n",
    "                if spike['ts'] <= winner_spike['ts']: # 时间是否合适 3 ，只有满足三个条件\n",
    "\n",
    "                    rela_x, rela_y = self.relative_position(spike, neuron)\n",
    "\n",
    "                    pre_spiked_before_post[rela_x, rela_y] = True # 权重矩阵 相应的位置True\n",
    "\n",
    "\n",
    "        return pre_spiked_before_post # 返回一个bool 矩阵\n",
    "\n",
    "\n",
    "    def relative_position(self, spike, neuron):\n",
    "        # spike 是前一层， neuron 是后一层\n",
    "        # 0 1 2 -> 0 \n",
    "        # 1 2 3 -> 1\n",
    "        # 2 3 4 -> 2\n",
    "        # 相减之后 正好是权重的坐标\n",
    "        neuron_row, neuron_col = neuron\n",
    "        relative_row = spike['x'] - neuron_row\n",
    "        relative_col = spike['y'] - neuron_col\n",
    "\n",
    "        return relative_row, relative_col\n"
   ]
  },
  {
   "cell_type": "code",
   "execution_count": 274,
   "metadata": {},
   "outputs": [
    {
     "data": {
      "text/plain": [
       "0.36393510758178604"
      ]
     },
     "execution_count": 274,
     "metadata": {},
     "output_type": "execute_result"
    }
   ],
   "source": [
    "a = np.random.random((1,10))\n",
    "a[(0,1)]"
   ]
  },
  {
   "cell_type": "code",
   "execution_count": 275,
   "metadata": {},
   "outputs": [],
   "source": [
    "ng = NeuronalGrids(A.shape)"
   ]
  },
  {
   "cell_type": "code",
   "execution_count": 276,
   "metadata": {},
   "outputs": [],
   "source": [
    "def compute_rstdp(synaptic_weights, spiked_before_post, reward ,ar_plus, ar_neg, ap_plus, ap_neg):\n",
    "    \"\"\"\n",
    "        这里只是计算 delta_weight\n",
    "    \"\"\"\n",
    "    delta_weights = np.zeros_like(synaptic_weights)\n",
    "\n",
    "    for (row, col), w_ij in np.ndenumerate(synaptic_weights):\n",
    "\n",
    "        if reward:\n",
    "            \n",
    "            if spiked_before_post[row, col]: # 在win 之前发的脉冲\n",
    "                delta_weights[row, col] = ar_plus * synaptic_weights[row, col] * (1 - synaptic_weights[row, col])\n",
    "            else: # 在win 之后发的脉冲\n",
    "                delta_weights[row, col] = ar_neg * synaptic_weights[row, col] * (1 - synaptic_weights[row, col])\n",
    "        else:\n",
    "\n",
    "            if spiked_before_post[row, col]: # 在win 之前发的脉冲\n",
    "                delta_weights[row, col] = ap_neg * synaptic_weights[row, col] * (1 - synaptic_weights[row, col])\n",
    "            else: # 在win 之后发的脉冲\n",
    "                delta_weights[row, col] = ap_plus * synaptic_weights[row, col] * (1 - synaptic_weights[row, col]) # W * 1 - W\n",
    "    \n",
    "    return delta_weights\n",
    "\n",
    "def apply_update(synaptic_weights, compute_delta_weights, adjustment_factor, small_qty):\n",
    "    \"\"\"\n",
    "        进行真正的更新\n",
    "    \"\"\"\n",
    "\n",
    "    synaptic_weights += adjustment_factor * compute_delta_weights\n",
    "\n",
    "    synaptic_weights.clip(small_qty, 1-small_qty)\n",
    "\n",
    "    \"\"\" for (row, col), _ in np.ndenumerate(synaptic_weights):\n",
    "        if synaptic_weights[row, col] >= (1 - small_qty) : \n",
    "            synaptic_weights[row, col] = 1 - small_qty\n",
    "        elif synaptic_weights[row, col] <= 0 : \n",
    "            synaptic_weights[row, col] = 0 + small_qty \"\"\"\n",
    "    "
   ]
  },
  {
   "cell_type": "code",
   "execution_count": 277,
   "metadata": {},
   "outputs": [],
   "source": [
    "ng = NeuronalGrids(A.shape)\n"
   ]
  },
  {
   "cell_type": "code",
   "execution_count": 279,
   "metadata": {},
   "outputs": [
    {
     "name": "stdout",
     "output_type": "stream",
     "text": [
      "Accuracy: 0.517\n"
     ]
    }
   ],
   "source": [
    "correct = 0\n",
    "train_iters = 2000\n",
    "# 进行训练\n",
    "for i in range(train_iters):\n",
    "    random_number = random.random()\n",
    "    if random_number > 0.5:\n",
    "        pred = ng.process(A.spikes, label=0, train=True)\n",
    "        correct += int(pred == 0)\n",
    "    else:\n",
    "        pred = ng.process(B.spikes, label=1, train=True)\n",
    "        correct += int(pred == 1)\n",
    "print(f\"Accuracy: {correct / train_iters}\")"
   ]
  },
  {
   "cell_type": "code",
   "execution_count": 280,
   "metadata": {},
   "outputs": [
    {
     "name": "stdout",
     "output_type": "stream",
     "text": [
      "Accuracy: 1.0\n"
     ]
    }
   ],
   "source": [
    "correct = 0\n",
    "test_iters = 200\n",
    "# 进行训练\n",
    "for i in range(test_iters):\n",
    "    random_number = random.random()\n",
    "    if random_number > 0.5:\n",
    "        pred = ng.predict(A.spikes)\n",
    "        correct += int(pred == 0)\n",
    "    else:\n",
    "        pred = ng.predict(B.spikes)\n",
    "        correct += int(pred == 1)\n",
    "print(f\"Accuracy: {correct / test_iters}\")"
   ]
  },
  {
   "cell_type": "code",
   "execution_count": 281,
   "metadata": {},
   "outputs": [
    {
     "data": {
      "image/png": "[encoded data removed]",
      "text/plain": [
       "<Figure size 800x500 with 2 Axes>"
      ]
     },
     "metadata": {},
     "output_type": "display_data"
    }
   ],
   "source": [
    "fig, axes = plt.subplots(1, 2, figsize=(8, 5))\n",
    "\n",
    "for i, ax in enumerate(axes):\n",
    "    ax.imshow(ng.synaptic_weights[i], cmap='gray')\n",
    "    plt.setp(ax.get_xticklabels(), visible=False)\n",
    "    plt.setp(ax.get_yticklabels(), visible=False)\n",
    "    ax.tick_params(axis='both', which='both', length=0)"
   ]
  },
  {
   "cell_type": "code",
   "execution_count": 286,
   "metadata": {},
   "outputs": [],
   "source": [
    "ng.reset_metric()"
   ]
  },
  {
   "cell_type": "code",
   "execution_count": 287,
   "metadata": {},
   "outputs": [
    {
     "name": "stdout",
     "output_type": "stream",
     "text": [
      "Accuracy: 0.877075\n"
     ]
    }
   ],
   "source": [
    "correct = 0\n",
    "train_iters = 40000\n",
    "# 进行训练\n",
    "for i in range(train_iters):\n",
    "    random_number = random.random()\n",
    "    if random_number > 0.5:\n",
    "        pred = ng.process(A.spikes, label=1, train=True)\n",
    "        correct += int(pred == 1)\n",
    "    else:\n",
    "        pred = ng.process(B.spikes, label=0, train=True)\n",
    "        correct += int(pred == 0)\n",
    "print(f\"Accuracy: {correct / train_iters}\")"
   ]
  },
  {
   "cell_type": "code",
   "execution_count": 288,
   "metadata": {},
   "outputs": [
    {
     "name": "stdout",
     "output_type": "stream",
     "text": [
      "Accuracy: 1.0\n"
     ]
    }
   ],
   "source": [
    "# Test\n",
    "correct = 0\n",
    "n_iters = 200\n",
    "for i in range(n_iters):\n",
    "    rand_number = random.random()\n",
    "    if rand_number > 0.5 :\n",
    "        #print(\"\\nProcessing 0\")\n",
    "        pred = ng.predict(A.spikes)\n",
    "        correct += int(pred == 1) \n",
    "        logging.info('-'*20 + f'Predicted {pred}, real {0}')\n",
    "    else:\n",
    "        #print(\"\\nProcessing 1\")\n",
    "        pred = ng.predict(B.spikes)\n",
    "        correct += int(pred == 0) \n",
    "        logging.info('-'*20 + f'Predicted {pred}, real {1}')\n",
    "\n",
    "print(f'Accuracy: {correct/(n_iters)}')"
   ]
  },
  {
   "cell_type": "code",
   "execution_count": 289,
   "metadata": {},
   "outputs": [
    {
     "data": {
      "image/png": "[encoded data removed]",
      "text/plain": [
       "<Figure size 800x500 with 2 Axes>"
      ]
     },
     "metadata": {},
     "output_type": "display_data"
    }
   ],
   "source": [
    "fig, axes = plt.subplots(1, len(ng.synaptic_weights), figsize=(8, 5))\n",
    "\n",
    "for i, ax in enumerate(axes):\n",
    "    ax.imshow(ng.synaptic_weights[i], cmap='gray')\n",
    "    plt.setp(ax.get_xticklabels(), visible=False)\n",
    "    plt.setp(ax.get_yticklabels(), visible=False)\n",
    "    ax.tick_params(axis='both', which='both', length=0)"
   ]
  },
  {
   "cell_type": "markdown",
   "metadata": {},
   "source": [
    "###### 这里的RSTDP的grid的设计就很自然的规避掉了，对一个分类的修改，进而产生对另一个的影响，这里相当于做了两套系统\n",
    "    + 只要有（脉冲）奖励、惩罚信号产生，剩下的更新过程都是在，那个脉冲对应的权重w上进行修改----这里很关键\n",
    "        + 如果有脉冲输出-也就是有奖励或惩罚，那么就把第一个脉冲所在w拿出来，进行下面的迭代，但是有个问题就是，\n",
    "            + 奖励-就强化分类正确的stdp\n",
    "            + 惩罚-就反向强化所有stdp\n",
    "        + 没有脉冲输出\n",
    "            + 就微强化正向权重\n",
    "      "
   ]
  },
  {
   "cell_type": "markdown",
   "metadata": {},
   "source": [
    "+ grid 的引入相当于两套系统-回避掉了互相掣肘的问题\n",
    "+ grid 的引入，也就存在grid遍历有先后顺序，总给我的感觉是有问题的，但好像又没问题"
   ]
  },
  {
   "cell_type": "markdown",
   "metadata": {},
   "source": []
  }
 ],
 "metadata": {
  "kernelspec": {
   "display_name": "pytorch",
   "language": "python",
   "name": "python3"
  },
  "language_info": {
   "codemirror_mode": {
    "name": "ipython",
    "version": 3
   },
   "file_extension": ".py",
   "mimetype": "text/x-python",
   "name": "python",
   "nbconvert_exporter": "python",
   "pygments_lexer": "ipython3",
   "version": "3.9.13"
  }
 },
 "nbformat": 4,
 "nbformat_minor": 2
}
